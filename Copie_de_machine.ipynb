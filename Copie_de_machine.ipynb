{
  "nbformat": 4,
  "nbformat_minor": 0,
  "metadata": {
    "colab": {
      "name": "Copie de momentum.ipynb",
      "provenance": [],
      "collapsed_sections": [],
      "toc_visible": true,
      "authorship_tag": "ABX9TyNs36djb94oIUQGxclqA+Tn",
      "include_colab_link": true
    },
    "kernelspec": {
      "name": "python3",
      "display_name": "Python 3"
    }
  },
  "cells": [
    {
      "cell_type": "markdown",
      "metadata": {
        "id": "view-in-github",
        "colab_type": "text"
      },
      "source": [
        "<a href=\"https://colab.research.google.com/github/matthieudeReynal/PI2A5-CryptoCurrenciesTrading/blob/master/Copie_de_machine.ipynb\" target=\"_parent\"><img src=\"https://colab.research.google.com/assets/colab-badge.svg\" alt=\"Open In Colab\"/></a>"
      ]
    },
    {
      "cell_type": "markdown",
      "metadata": {
        "id": "xBK1lnJYa-6U"
      },
      "source": [
        ""
      ]
    },
    {
      "cell_type": "markdown",
      "metadata": {
        "id": "7rFI_jtxbFSo"
      },
      "source": [
        "# Import de librairies"
      ]
    },
    {
      "cell_type": "code",
      "metadata": {
        "colab": {
          "base_uri": "https://localhost:8080/"
        },
        "id": "Yt_TH96fl4Lz",
        "outputId": "9d84873e-128e-4f35-850c-26a55dd3b5c1"
      },
      "source": [
        "import requests # requetes web GET \r\n",
        "import pandas as pd\r\n",
        "import pathlib # gestion des chemin d'accès fichier\r\n",
        "import matplotlib.pyplot as plt\r\n",
        "from pathlib import Path\r\n",
        "import seaborn as sns\r\n",
        "from collections import Counter\r\n",
        "\r\n",
        "import sklearn\r\n",
        "from sklearn.utils import shuffle\r\n",
        "from sklearn.model_selection import GridSearchCV\r\n",
        "from sklearn.linear_model import LinearRegression\r\n",
        "from sklearn.metrics import mean_squared_error\r\n",
        "from sklearn.linear_model import HuberRegressor\r\n",
        "from sklearn.neighbors import KNeighborsRegressor\r\n",
        "from sklearn.ensemble import RandomForestRegressor\r\n",
        "from sklearn.model_selection import ShuffleSplit\r\n",
        "\r\n",
        "from sklearn.utils import all_estimators\r\n",
        "from sklearn.linear_model import ElasticNet\r\n",
        "from sklearn.externals import joblib\r\n",
        "from flask import Flask, jsonify, request\r\n"
      ],
      "execution_count": 1,
      "outputs": [
        {
          "output_type": "stream",
          "text": [
            "/usr/local/lib/python3.6/dist-packages/sklearn/externals/joblib/__init__.py:15: FutureWarning: sklearn.externals.joblib is deprecated in 0.21 and will be removed in 0.23. Please import this functionality directly from joblib, which can be installed with: pip install joblib. If this warning is raised when loading pickled models, you may need to re-serialize those models with scikit-learn 0.21+.\n",
            "  warnings.warn(msg, category=FutureWarning)\n"
          ],
          "name": "stderr"
        }
      ]
    },
    {
      "cell_type": "markdown",
      "metadata": {
        "id": "FQVseAxlbJbT"
      },
      "source": [
        "#Importation des données"
      ]
    },
    {
      "cell_type": "code",
      "metadata": {
        "id": "zmX6DdW4d9DE",
        "colab": {
          "base_uri": "https://localhost:8080/",
          "height": 129
        },
        "outputId": "562da3f5-a54e-4cc6-fa48-c20d086fbc52"
      },
      "source": [
        "\r\n",
        "import matplotlib.pyplot as plt\r\n",
        "import numpy as np\r\n",
        "from dataToDictionnary import *\r\n",
        "import pandas as pd\r\n",
        "pd.options.mode.chained_assignment = None\r\n",
        "\r\n",
        "pair = 'SNX/USDT'\r\n",
        "exchange = ['binance']\r\n",
        "duration = ['3m']\r\n",
        "df = oneAssetToDFalex(pair, duration, exchange)\r\n",
        "df['date'] = pd.to_datetime(df['date'],unit='ms'à)\r\n",
        "print(df.head())\r\n",
        "#df = df.iloc[80800:81000]\r\n",
        "#df = df.reset_index(drop=True)\r\n",
        "print(df)\r\n",
        "# In[2]:\r\n",
        "\r\n",
        "#the calculation of sar\r\n",
        "#as rules are very complicated\r\n",
        "#plz check the links above to understand more about it\r\n"
      ],
      "execution_count": 2,
      "outputs": [
        {
          "output_type": "error",
          "ename": "SyntaxError",
          "evalue": "ignored",
          "traceback": [
            "\u001b[0;36m  File \u001b[0;32m\"<ipython-input-2-b6f4cfbfdc38>\"\u001b[0;36m, line \u001b[0;32m12\u001b[0m\n\u001b[0;31m    df['date'] = pd.to_datetime(df['date'],unit='ms'à)\u001b[0m\n\u001b[0m                                                    ^\u001b[0m\n\u001b[0;31mSyntaxError\u001b[0m\u001b[0;31m:\u001b[0m invalid syntax\n"
          ]
        }
      ]
    },
    {
      "cell_type": "markdown",
      "metadata": {
        "id": "XJ-6gQCtbb_I"
      },
      "source": [
        "# Preparation des données"
      ]
    },
    {
      "cell_type": "code",
      "metadata": {
        "id": "6kPhGZfhrsVx"
      },
      "source": [
        "#df.sort_values(by=['col1'])\r\n",
        "df=shuffle(df)\r\n",
        "dfTrain = df[:60000]\r\n",
        "dfTest = df[60000:]\r\n",
        "#dfTrain.sort_index()\r\n",
        "#dfTest.sort_index()\r\n",
        "\r\n",
        "X_Train=dfTrain.loc[:,df.columns != 'result']\r\n",
        "Y_Train=dfTrain.loc[:,'result]\r\n",
        "X_Test=dfTest.loc[:,df.columns != 'result']\r\n",
        "Y_Test=dfTest.loc[:,'result']\r\n"
      ],
      "execution_count": null,
      "outputs": []
    },
    {
      "cell_type": "markdown",
      "metadata": {
        "id": "Ls6w03z2cMhG"
      },
      "source": [
        "# modèles de machine learning\r\n",
        "Pour chacun des modèles nous faisons un gridsearch dont le but de tester le modele avec plusieurs parametres. \r\n",
        "\r\n",
        "Ensuite nous affichons et classons les parametres pour ne selectionner que les meilleurs.\r\n",
        "\r\n",
        "Nous reproduisons ensuite le meilleur modele afin de l'enregistrer. \r\n",
        "Nous affichons à ce moment le taux de réussite du modele.\r\n",
        "\r\n",
        "Le meilleur modele est enfin sélectionné pour notre API. Dans notre cas il s'agit du random Forest.\r\n",
        "\r\n",
        "La regression linéaire est le seul modele qui n'a pas de grids search, il n'y  pas de paramettre important à tester"
      ]
    },
    {
      "cell_type": "code",
      "metadata": {
        "id": "wg9TQ3WGnmCR"
      },
      "source": [
        " def grid_search(X, Y, model, param_grid={}):\r\n",
        "    rk = {'random_state':42}\r\n",
        "    try:\r\n",
        "        model(**rk)\r\n",
        "    except:\r\n",
        "        rk = {}\r\n",
        "        \r\n",
        "    grid = GridSearchCV(\r\n",
        "        model(**rk),\r\n",
        "        param_grid=param_grid,\r\n",
        "        cv=ShuffleSplit(n_splits=4, random_state=20),\r\n",
        "        verbose=0,\r\n",
        "        n_jobs=-1\r\n",
        "    )\r\n",
        "\r\n",
        "    grid.fit(X, Y)\r\n",
        "    return grid"
      ],
      "execution_count": null,
      "outputs": []
    },
    {
      "cell_type": "markdown",
      "metadata": {
        "id": "JcfjmrgqcozE"
      },
      "source": [
        "## Random Forest Regressor\r\n",
        "Le random Forest ajuste un certain nombre de classificateurs d'arbres de décision sur divers sous-échantillons de l'ensemble de données et utilise la moyenne pour améliorer la précision de la prédiction.\r\n",
        "\r\n",
        "Ces calcul peuvent etre très très long, je les ai fait,cela a pris environ 1h30. Voila la grille testé complete. Seul certain parametre incluant les plus performant ont été gardé.\r\n",
        "\r\n",
        "max_depth': [None, 10,20, 50, 100]\r\n",
        "n_estimators': [10,50, 100, 200]\r\n",
        "criterion': ['mse','mae']\r\n",
        "'max_features' : ['auto','sqrt', 'log2']"
      ]
    },
    {
      "cell_type": "code",
      "metadata": {
        "id": "RrYeoTdUpg-r"
      },
      "source": [
        "modelRandomForest = RandomForestRegressor\r\n",
        "\r\n",
        "param_grid = {\r\n",
        "    'max_depth': [None, 10,20, 50, 100],\r\n",
        "    'criterion': ['mse'],\r\n",
        "    'n_estimators': [10,50,100],\r\n",
        "    'max_features' : ['auto'] \r\n",
        "   \r\n",
        "}\r\n",
        "useful_columns = ['param_' + k for k in param_grid.keys()] + ['mean_test_score', 'std_test_score', 'rank_test_score']\r\n",
        "grid = grid_search(X_Train, Y_Train, modelRandomForest, param_grid)\r\n",
        "pd.DataFrame(grid.cv_results_)[useful_columns].sort_values('rank_test_score')"
      ],
      "execution_count": null,
      "outputs": []
    },
    {
      "cell_type": "code",
      "metadata": {
        "id": "n7Z9Yf8Kphm2"
      },
      "source": [
        "modelRandomForest = RandomForestRegressor(max_depth=None ,criterion='mse',n_estimators=100,max_features='auto').fit(X_Train,Y_Train)\r\n",
        "Y_Prediction=modelRandomForest.predict(X_Test)\r\n",
        "\r\n",
        "Y_PredictionBinarie=[]\r\n",
        "for i in range(len(Y_Prediction)):\r\n",
        "    if Y_Prediction[i]>0.5:\r\n",
        "        Y_PredictionBinarie.append(1)\r\n",
        "    else:\r\n",
        "       Y_PredictionBinarie.append(0)\r\n",
        "\r\n",
        "counter=0\r\n",
        "iterator=0\r\n",
        "for i, value in Y_Test.iteritems():\r\n",
        "\r\n",
        "    if(int(Y_PredictionBinarie[iterator])==int(value)):\r\n",
        "       counter=counter+1\r\n",
        "    iterator=iterator+1\r\n",
        "\r\n",
        "print(\"Taux de bons resultats: \",counter/8,'%')"
      ],
      "execution_count": null,
      "outputs": []
    },
    {
      "cell_type": "code",
      "metadata": {
        "id": "hnWLOBtCy6M3"
      },
      "source": [
        "plt.scatter(X_Test.index, Y_Test,color='black', s=1)\r\n",
        "plt.scatter(X_Test.index, Y_Prediction, color='blue', s=1)\r\n",
        "\r\n",
        "plt.xticks(())\r\n",
        "plt.yticks(())\r\n",
        "\r\n",
        "plt.show()"
      ],
      "execution_count": null,
      "outputs": []
    }
  ]
}