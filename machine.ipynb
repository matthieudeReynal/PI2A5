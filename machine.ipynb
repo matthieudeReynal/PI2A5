import requests # requetes web GET 
import pandas as pd
import pathlib # gestion des chemin d'accès fichier
import matplotlib.pyplot as plt
from pathlib import Path
import seaborn as sns
from collections import Counter

import sklearn
from sklearn.utils import shuffle
from sklearn.model_selection import GridSearchCV
from sklearn.linear_model import LinearRegression
from sklearn.metrics import mean_squared_error
from sklearn.linear_model import HuberRegressor
from sklearn.neighbors import KNeighborsRegressor
from sklearn.ensemble import RandomForestRegressor
from sklearn.model_selection import ShuffleSplit

from sklearn.utils import all_estimators
from sklearn.linear_model import ElasticNet
from sklearn.externals import joblib
from flask import Flask, jsonify, request
    return df
