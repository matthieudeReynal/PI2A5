{
 "cells": [
  {
   "cell_type": "markdown",
   "metadata": {},
   "source": [
    "# Mean Reversion on pairs"
   ]
  },
  {
   "cell_type": "markdown",
   "metadata": {},
   "source": [
    "## Find best pair to trade "
   ]
  },
  {
   "cell_type": "markdown",
   "metadata": {},
   "source": [
    "### Import libraries and data"
   ]
  },
  {
   "cell_type": "code",
   "execution_count": 21,
   "metadata": {},
   "outputs": [],
   "source": [
    "from dataToDictionnary import *\n",
    "import pandas as pd\n",
    "import numpy as np\n",
    "pd.options.mode.chained_assignment = None\n",
    "import matplotlib.pyplot as plt\n",
    "import time\n",
    "import statsmodels.api as sm\n",
    "import seaborn as sns\n",
    "\n",
    "exchanges = ['binance']\n",
    "used_pairs = ['LRC/USDT', 'SNX/USDT', 'KNC/USDT', 'BNT/USDT', 'REN/USDT', 'ENJ/USDT', 'ETH/USDT']\n",
    "durations = ['3m']\n",
    "exec(open(\"02-refreshDataCandles-fast.py\").read())\n",
    "data = dataToDico(used_pairs, durations, exchanges)\n",
    "df=pd.DataFrame.from_dict(data, orient='index')\n",
    "    \n",
    "df = df.transpose()\n",
    "df=df.dropna()\n",
    "df['time'] = pd.to_datetime(df['time'],unit='ms')\n",
    "for pair in used_pairs:\n",
    "    df = df[df[pair]!=0]\n",
    "\n",
    "df = df.reset_index()\n",
    "\n",
    "df.set_index('time', inplace=True, drop=True)"
   ]
  },
  {
   "cell_type": "markdown",
   "metadata": {},
   "source": [
    "### Run cointegration test"
   ]
  },
  {
   "cell_type": "code",
   "execution_count": 35,
   "metadata": {},
   "outputs": [],
   "source": [
    "def find_cointegrated_pairs(dataframe, critial_level = 0.05):\n",
    "    n = dataframe.shape[1] # the length of dateframe\n",
    "    pvalue_matrix = np.ones((n, n)) # initialize the matrix of p\n",
    "    keys = dataframe.columns # get the column names\n",
    "    pairs = [] # initilize the list for cointegration\n",
    "    for i in range(n):\n",
    "        for j in range(i+1, n): # for j bigger than i\n",
    "            stock1 = dataframe[keys[i]] # obtain the price of \"stock1\"\n",
    "            stock2 = dataframe[keys[j]]# obtain the price of \"stock2\"\n",
    "            result = sm.tsa.stattools.coint(stock1, stock2) # get conintegration\n",
    "            pvalue = result[1] # get the pvalue\n",
    "            pvalue_matrix[i, j] = pvalue\n",
    "            if pvalue < critial_level: # if p-value less than the critical level\n",
    "                pairs.append((keys[i], keys[j], pvalue)) # record the contract with that p-value\n",
    "    return pvalue_matrix, pairs"
   ]
  },
  {
   "cell_type": "markdown",
   "metadata": {},
   "source": [
    "We do a Dickey Fuller test to find a pair of asset which a linear combination of the prices is stationary."
   ]
  },
  {
   "cell_type": "code",
   "execution_count": 36,
   "metadata": {},
   "outputs": [
    {
     "data": {
      "text/plain": [
       "<matplotlib.axes._subplots.AxesSubplot at 0x7f1f0ae3fa90>"
      ]
     },
     "execution_count": 36,
     "metadata": {},
     "output_type": "execute_result"
    },
    {
     "data": {
      "image/png": "[encoded data removed]",
      "text/plain": [
       "<Figure size 1080x720 with 2 Axes>"
      ]
     },
     "metadata": {
      "needs_background": "light"
     },
     "output_type": "display_data"
    }
   ],
   "source": [
    "#set up the split point for our \"training data\" on which to perform the co-integration test (the remaining dat awill be fed to our backtest function)\n",
    "split = int(len(df) * .4)\n",
    "#run our dataframe (up to the split point) of ticker price data through our co-integration function and store results\n",
    "pvalue_matrix,pairs = find_cointegrated_pairs(df[:split])\n",
    "pvalue_matrix_df = pd.DataFrame(pvalue_matrix)\n",
    "fig, ax = plt.subplots(figsize=(15,10))\n",
    "sns.heatmap(pvalue_matrix_df,xticklabels=used_pairs,yticklabels=used_pairs,ax=ax)"
   ]
  },
  {
   "cell_type": "markdown",
   "metadata": {},
   "source": [
    "So we can see there are indeed a few pairs of stocks who’s co-integration score seems below the 5% threshold : SNX/REN and KNC/ENJ "
   ]
  },
  {
   "cell_type": "markdown",
   "metadata": {},
   "source": [
    "## Backtest"
   ]
  },
  {
   "cell_type": "markdown",
   "metadata": {},
   "source": [
    "### Import data and libraries"
   ]
  },
  {
   "cell_type": "code",
   "execution_count": 22,
   "metadata": {},
   "outputs": [
    {
     "name": "stdout",
     "output_type": "stream",
     "text": [
      "<class 'pandas.core.frame.DataFrame'>\n",
      "RangeIndex: 96848 entries, 0 to 96847\n",
      "Data columns (total 4 columns):\n",
      " #   Column    Non-Null Count  Dtype         \n",
      "---  ------    --------------  -----         \n",
      " 0   index     96848 non-null  int64         \n",
      " 1   time      96848 non-null  datetime64[ns]\n",
      " 2   SNX/USDT  96848 non-null  float64       \n",
      " 3   REN/USDT  96848 non-null  float64       \n",
      "dtypes: datetime64[ns](1), float64(2), int64(1)\n",
      "memory usage: 3.0 MB\n",
      "None\n"
     ]
    }
   ],
   "source": [
    "from dataToDictionnary import *\n",
    "import pandas as pd\n",
    "import numpy as np\n",
    "pd.options.mode.chained_assignment = None\n",
    "import matplotlib.pyplot as plt\n",
    "import time\n",
    "\n",
    "# Load the prices data for 2 assets\n",
    "\n",
    "exchanges = ['binance']\n",
    "pairs = ['SNX/USDT','REN/USDT']\n",
    "durations = ['3m']\n",
    "\n",
    "data = dataToDico(pairs, durations, exchanges)\n",
    "df=pd.DataFrame.from_dict(data, orient='index')\n",
    "\n",
    "df = df.transpose()\n",
    "df=df.dropna()\n",
    "df['time'] = pd.to_datetime(df['time'],unit='ms')\n",
    "df = df[df[pairs[0]]!=0]\n",
    "df = df[df[pairs[1]]!=0]\n",
    "df = df.reset_index()\n",
    "\n",
    "df.set_index('time')\n",
    "\n",
    "print(df.info())"
   ]
  },
  {
   "cell_type": "markdown",
   "metadata": {},
   "source": [
    "### Compute indicators"
   ]
  },
  {
   "cell_type": "code",
   "execution_count": 27,
   "metadata": {},
   "outputs": [],
   "source": [
    "from statsmodels.regression.rolling import RollingOLS\n",
    "\n",
    "def calculate_spread_zscore(df,lookback=100):\n",
    "    #print(\"Fitting the rolling Linear Regression...\")\n",
    "    y=df[pairs[0]]\n",
    "    x=df[pairs[1]]\n",
    "\n",
    "    model = RollingOLS(x,y, lookback).fit()\n",
    "\n",
    "    # Construct the hedge ratio and eliminate the first \n",
    "    # lookback-length empty/NaN period\n",
    "    df['hedge_ratio'] = model.params\n",
    "    df = df.dropna()\n",
    "\n",
    "    # Create the spread and then a z-score of the spread\n",
    "    #print(\"Creating the spread/zscore columns...\")\n",
    "    \n",
    "    \n",
    "    df['spread'] = df[pairs[0]] - df['hedge_ratio']*df[pairs[1]]\n",
    "    \n",
    "    df['zscore'] = (df['spread'] - df['spread'].rolling(lookback).mean()) / df['spread'].rolling(lookback).std()\n",
    "    return df\n"
   ]
  },
  {
   "cell_type": "markdown",
   "metadata": {},
   "source": [
    "### Define positions (long/short)"
   ]
  },
  {
   "cell_type": "code",
   "execution_count": 28,
   "metadata": {},
   "outputs": [],
   "source": [
    "# mr_spy_iwm.py\n",
    "\n",
    "def create_long_short_market_signals(df, \n",
    "                                     z_entry_threshold=2.0, \n",
    "                                     z_exit_threshold=1.0):\n",
    "\n",
    "    \n",
    "\n",
    "    # Calculate when to be long, short and when to exit\n",
    "    df['longs'] = (df['zscore'] <= -z_entry_threshold)*1.0\n",
    "    df['shorts'] = (df['zscore'] >= z_entry_threshold)*1.0\n",
    "    df['exits'] = (np.abs(df['zscore']) <= z_exit_threshold)*1.0\n",
    "    # These signals are needed because we need to propagate a\n",
    "    # position forward, i.e. we need to stay long if the zscore    \n",
    "    # threshold is less than z_entry_threshold by still greater\n",
    "    # than z_exit_threshold, and vice versa for shorts.\n",
    "    df['long_market'] = 0.0\n",
    "    df['short_market'] = 0.0\n",
    "\n",
    "    # These variables track whether to be long or short while\n",
    "    # iterating through the bars\n",
    "    long_market = 0\n",
    "    short_market = 0\n",
    "\n",
    "    # Calculates when to actually be \"in\" the market, i.e. to have a\n",
    "    # long or short position, as well as when not to be.\n",
    "    # Since this is using iterrows to loop over a dataframe, it will\n",
    "    # be significantly less efficient than a vectorised operation,\n",
    "    # i.e. slow!\n",
    "    #print(\"Calculating when to be in the market (long and short)...\")\n",
    "    for i, b in (df.iterrows()):\n",
    "        # Calculate longs\n",
    "        if b['longs'] == 1.0:\n",
    "            long_market = 1            \n",
    "        # Calculate shorts\n",
    "        if b['shorts'] == 1.0:\n",
    "            short_market = 1\n",
    "        # Calculate exists\n",
    "        if b['exits'] == 1.0:\n",
    "            long_market = 0\n",
    "            short_market = 0\n",
    "        # This directly assigns a 1 or 0 to the long_market/short_market\n",
    "        # columns, such that the strategy knows when to actually stay in!\n",
    "        #df.loc[i]['long_market'] = long_market\n",
    "        df.at[i, 'long_market'] = long_market\n",
    "        df.at[i, 'short_market'] = short_market\n",
    "    return df"
   ]
  },
  {
   "cell_type": "markdown",
   "metadata": {},
   "source": [
    "### Compute returns"
   ]
  },
  {
   "cell_type": "code",
   "execution_count": 29,
   "metadata": {},
   "outputs": [],
   "source": [
    "# mr_spy_iwm.py\n",
    "\n",
    "def create_portfolio_returns(df):\n",
    "    \"\"\"Creates a portfolio pandas DataFrame which keeps track of\n",
    "    the account equity and ultimately generates an equity curve.\n",
    "    This can be used to generate drawdown and risk/reward ratios.\"\"\"\n",
    "    \n",
    "    \n",
    "    #print(\"Constructing a portfolio...\")\n",
    "    portfolio = pd.DataFrame(index=df.index)\n",
    "    portfolio['positions'] = df['long_market'] - df['short_market']\n",
    "    portfolio[pairs[0]] = -1.0 * df[pairs[0]] * portfolio['positions']\n",
    "    portfolio[pairs[1]] = df[pairs[1]] * portfolio['positions']\n",
    "    portfolio['total'] = portfolio[pairs[0]] + portfolio[pairs[1]]\n",
    "\n",
    "    # Construct a percentage returns stream and eliminate all \n",
    "    # of the NaN and -inf/+inf cells\n",
    "    #print(\"Constructing the equity curve...\")\n",
    "    portfolio['returns'] = portfolio['total'].pct_change()\n",
    "    portfolio['returns'].fillna(0.0, inplace=True)\n",
    "    portfolio['returns'].replace([np.inf, -np.inf], 0.0, inplace=True)\n",
    "    portfolio['returns'].replace(-1.0, 0.0, inplace=True)\n",
    "\n",
    "    # Calculate the full equity curve\n",
    "    portfolio['returns'] = (portfolio['returns'] + 1.0).cumprod()\n",
    "\n",
    "    return portfolio"
   ]
  },
  {
   "cell_type": "code",
   "execution_count": 30,
   "metadata": {},
   "outputs": [
    {
     "name": "stdout",
     "output_type": "stream",
     "text": [
      "Calculating lookback=50...\n",
      "Calculating lookback=60...\n",
      "Calculating lookback=70...\n",
      "Calculating lookback=80...\n",
      "Calculating lookback=90...\n",
      "Calculating lookback=100...\n",
      "Calculating lookback=110...\n",
      "Calculating lookback=120...\n",
      "Calculating lookback=130...\n",
      "Calculating lookback=140...\n",
      "Calculating lookback=150...\n",
      "Calculating lookback=160...\n",
      "Calculating lookback=170...\n",
      "Calculating lookback=180...\n",
      "Calculating lookback=190...\n",
      "Calculating lookback=200...\n",
      "Calculating lookback=210...\n",
      "Calculating lookback=220...\n",
      "Calculating lookback=230...\n",
      "Calculating lookback=240...\n",
      "Calculating lookback=250...\n",
      "Calculating lookback=260...\n",
      "Calculating lookback=270...\n",
      "Calculating lookback=280...\n",
      "Calculating lookback=290...\n",
      "Calculating lookback=300...\n",
      "Calculating lookback=310...\n",
      "Calculating lookback=320...\n",
      "Calculating lookback=330...\n",
      "Calculating lookback=340...\n",
      "Calculating lookback=350...\n",
      "Calculating lookback=360...\n",
      "Calculating lookback=370...\n",
      "Calculating lookback=380...\n",
      "Calculating lookback=390...\n",
      "Calculating lookback=400...\n",
      "Calculating lookback=410...\n",
      "Calculating lookback=420...\n",
      "Calculating lookback=430...\n",
      "Calculating lookback=440...\n",
      "Calculating lookback=450...\n",
      "Calculating lookback=460...\n",
      "Calculating lookback=470...\n",
      "Calculating lookback=480...\n",
      "Calculating lookback=490...\n",
      "Plot the lookback-performance scatterchart...\n"
     ]
    },
    {
     "data": {
      "image/png": "[encoded data removed]",
      "text/plain": [
       "<Figure size 432x288 with 1 Axes>"
      ]
     },
     "metadata": {
      "needs_background": "light"
     },
     "output_type": "display_data"
    }
   ],
   "source": [
    "lookbacks = range(50, 500, 10)\n",
    "returns = []\n",
    "exchanges = ['binance']\n",
    "pairs = ['SNX/USDT','REN/USDT']\n",
    "durations = ['3m']\n",
    "\n",
    "data = dataToDico(pairs, durations, exchanges)\n",
    "# Adjust lookback period from 50 to 500 in increments\n",
    "# of 10 in order to produce sensitivities\n",
    "for lb in lookbacks: \n",
    "    \n",
    "    df=pd.DataFrame.from_dict(data, orient='index')\n",
    "\n",
    "    df = df.transpose()\n",
    "    df=df.dropna()\n",
    "    df['time'] = pd.to_datetime(df['time'],unit='ms')\n",
    "    df = df[df[pairs[0]]!=0]\n",
    "    df = df[df[pairs[1]]!=0]\n",
    "    df = df.reset_index()\n",
    "\n",
    "    df.set_index('time')\n",
    "\n",
    "    print(\"Calculating lookback=%s...\" % lb)\n",
    "    df = calculate_spread_zscore(df, lookback=lb)\n",
    "    df = create_long_short_market_signals(df, \n",
    "                                            z_entry_threshold=2.0, \n",
    "                                            z_exit_threshold=1.0)\n",
    "    portfolio = create_portfolio_returns(df)\n",
    "    returns.append(portfolio.iloc[-1]['returns'])\n",
    "\n",
    "print(\"Plot the lookback-performance scatterchart...\")\n",
    "plt.plot(lookbacks, returns, '-o')\n",
    "#plt.ylabel('returns')\n",
    "#plt.xlabel('lookbacks')\n",
    "plt.show()\n"
   ]
  },
  {
   "cell_type": "code",
   "execution_count": 34,
   "metadata": {},
   "outputs": [
    {
     "data": {
      "text/html": [
       "<div>\n",
       "<style scoped>\n",
       "    .dataframe tbody tr th:only-of-type {\n",
       "        vertical-align: middle;\n",
       "    }\n",
       "\n",
       "    .dataframe tbody tr th {\n",
       "        vertical-align: top;\n",
       "    }\n",
       "\n",
       "    .dataframe thead th {\n",
       "        text-align: right;\n",
       "    }\n",
       "</style>\n",
       "<table border=\"1\" class=\"dataframe\">\n",
       "  <thead>\n",
       "    <tr style=\"text-align: right;\">\n",
       "      <th></th>\n",
       "      <th>index</th>\n",
       "      <th>SNX/USDT</th>\n",
       "      <th>REN/USDT</th>\n",
       "    </tr>\n",
       "    <tr>\n",
       "      <th>time</th>\n",
       "      <th></th>\n",
       "      <th></th>\n",
       "      <th></th>\n",
       "    </tr>\n",
       "  </thead>\n",
       "  <tbody>\n",
       "    <tr>\n",
       "      <th>2020-07-09 12:03:00</th>\n",
       "      <td>86380</td>\n",
       "      <td>3.398</td>\n",
       "      <td>0.18616</td>\n",
       "    </tr>\n",
       "    <tr>\n",
       "      <th>2020-07-09 12:06:00</th>\n",
       "      <td>86381</td>\n",
       "      <td>3.131</td>\n",
       "      <td>0.18621</td>\n",
       "    </tr>\n",
       "    <tr>\n",
       "      <th>2020-07-09 12:09:00</th>\n",
       "      <td>86382</td>\n",
       "      <td>3.177</td>\n",
       "      <td>0.18616</td>\n",
       "    </tr>\n",
       "    <tr>\n",
       "      <th>2020-07-09 12:12:00</th>\n",
       "      <td>86383</td>\n",
       "      <td>3.161</td>\n",
       "      <td>0.18616</td>\n",
       "    </tr>\n",
       "    <tr>\n",
       "      <th>2020-07-09 12:15:00</th>\n",
       "      <td>86384</td>\n",
       "      <td>3.169</td>\n",
       "      <td>0.18643</td>\n",
       "    </tr>\n",
       "    <tr>\n",
       "      <th>...</th>\n",
       "      <td>...</td>\n",
       "      <td>...</td>\n",
       "      <td>...</td>\n",
       "    </tr>\n",
       "    <tr>\n",
       "      <th>2021-01-27 12:03:00</th>\n",
       "      <td>183223</td>\n",
       "      <td>15.590</td>\n",
       "      <td>0.55503</td>\n",
       "    </tr>\n",
       "    <tr>\n",
       "      <th>2021-01-27 12:06:00</th>\n",
       "      <td>183224</td>\n",
       "      <td>15.891</td>\n",
       "      <td>0.56178</td>\n",
       "    </tr>\n",
       "    <tr>\n",
       "      <th>2021-01-27 12:09:00</th>\n",
       "      <td>183225</td>\n",
       "      <td>15.739</td>\n",
       "      <td>0.56071</td>\n",
       "    </tr>\n",
       "    <tr>\n",
       "      <th>2021-01-27 12:12:00</th>\n",
       "      <td>183226</td>\n",
       "      <td>15.622</td>\n",
       "      <td>0.55363</td>\n",
       "    </tr>\n",
       "    <tr>\n",
       "      <th>2021-01-27 12:15:00</th>\n",
       "      <td>183227</td>\n",
       "      <td>15.644</td>\n",
       "      <td>0.55494</td>\n",
       "    </tr>\n",
       "  </tbody>\n",
       "</table>\n",
       "<p>96848 rows × 3 columns</p>\n",
       "</div>"
      ],
      "text/plain": [
       "                      index  SNX/USDT  REN/USDT\n",
       "time                                           \n",
       "2020-07-09 12:03:00   86380     3.398   0.18616\n",
       "2020-07-09 12:06:00   86381     3.131   0.18621\n",
       "2020-07-09 12:09:00   86382     3.177   0.18616\n",
       "2020-07-09 12:12:00   86383     3.161   0.18616\n",
       "2020-07-09 12:15:00   86384     3.169   0.18643\n",
       "...                     ...       ...       ...\n",
       "2021-01-27 12:03:00  183223    15.590   0.55503\n",
       "2021-01-27 12:06:00  183224    15.891   0.56178\n",
       "2021-01-27 12:09:00  183225    15.739   0.56071\n",
       "2021-01-27 12:12:00  183226    15.622   0.55363\n",
       "2021-01-27 12:15:00  183227    15.644   0.55494\n",
       "\n",
       "[96848 rows x 3 columns]"
      ]
     },
     "execution_count": 34,
     "metadata": {},
     "output_type": "execute_result"
    }
   ],
   "source": [
    "data = dataToDico(pairs, durations, exchanges)\n",
    "df=pd.DataFrame.from_dict(data, orient='index')\n",
    "\n",
    "df = df.transpose()\n",
    "df=df.dropna()\n",
    "df['time'] = pd.to_datetime(df['time'],unit='ms')\n",
    "df = df[df[pairs[0]]!=0]\n",
    "df = df[df[pairs[1]]!=0]\n",
    "df = df.reset_index()\n",
    "\n",
    "df.set_index('time')"
   ]
  },
  {
   "cell_type": "code",
   "execution_count": 35,
   "metadata": {},
   "outputs": [
    {
     "name": "stdout",
     "output_type": "stream",
     "text": [
      "return for mean reversion pairs strategy :  647.9550238875167 %\n"
     ]
    },
    {
     "data": {
      "image/png": "[encoded data removed]",
      "text/plain": [
       "<Figure size 432x288 with 1 Axes>"
      ]
     },
     "metadata": {
      "needs_background": "light"
     },
     "output_type": "display_data"
    },
    {
     "name": "stdout",
     "output_type": "stream",
     "text": [
      "return for buy and hold strategy :  521.4666666666667 %\n"
     ]
    },
    {
     "data": {
      "image/png": "[encoded data removed]",
      "text/plain": [
       "<Figure size 432x288 with 1 Axes>"
      ]
     },
     "metadata": {
      "needs_background": "light"
     },
     "output_type": "display_data"
    }
   ],
   "source": [
    "#seems that optimal lookback  is 90\n",
    "# so we visualize returns for lookback = 90\n",
    "lookback = 90\n",
    "df = calculate_spread_zscore(df, lookback)\n",
    "    \n",
    "df = create_long_short_market_signals(df, 2.0, 1.0)\n",
    "#print(df.loc[df['long_market']==1].count())\n",
    "portfolio = create_portfolio_returns(df)\n",
    "print('return for mean reversion pairs strategy : ',portfolio.iloc[-1]['returns']*100, '%')\n",
    "df['buyAndHold']=df[pairs[0]]/df[pairs[0]][lookback]\n",
    "\n",
    "plt.plot(df['time'], portfolio['returns'])\n",
    "plt.title = ('returns for mean reversion pairs')\n",
    "plt.ylabel = ('return')\n",
    "#fig.autofmt_xdate()\n",
    "plt.show()\n",
    "\n",
    "print('return for buy and hold strategy : ', df.iloc[-1]['buyAndHold']*100, '%')\n",
    "plt.figure()\n",
    "plt.plot(df['time'], df[pairs[0]]/df[pairs[0]][lookback])\n",
    "plt.title = ('returns for buy and hold')\n",
    "plt.ylabel = ('return')\n",
    "plt.show()"
   ]
  },
  {
   "cell_type": "markdown",
   "metadata": {},
   "source": [
    "## Trading in live"
   ]
  },
  {
   "cell_type": "markdown",
   "metadata": {},
   "source": [
    "Launch all cells beyond this point to run code in live"
   ]
  },
  {
   "cell_type": "code",
   "execution_count": 31,
   "metadata": {},
   "outputs": [],
   "source": [
    "\n",
    "def truncate(number, decimals=0):\n",
    "    \"\"\"\n",
    "    Returns a value truncated to a specific number of decimal places.\n",
    "    \"\"\"\n",
    "    if not isinstance(decimals, int):\n",
    "        raise TypeError(\"decimal places must be an integer.\")\n",
    "    elif decimals < 0:\n",
    "        raise ValueError(\"decimal places has to be 0 or more.\")\n",
    "    elif decimals == 0:\n",
    "        return math.trunc(number)\n",
    "\n",
    "    factor = 10.0 ** decimals\n",
    "    return math.trunc(number * factor) / factor"
   ]
  },
  {
   "cell_type": "code",
   "execution_count": 32,
   "metadata": {},
   "outputs": [],
   "source": [
    "from statsmodels.regression.rolling import RollingOLS\n",
    "\n",
    "\"\"\"Creates a hedge ratio between the two pairs by calculating\n",
    "    a rolling linear regression with a defined lookback period. This\n",
    "    is then used to create a z-score of the 'spread' between the two\n",
    "    pairs based on a linear combination of the two.\"\"\"\n",
    "def calculate_spread_zscore(df,lookback=100):\n",
    "    print(\"Fitting the rolling Linear Regression...\")\n",
    "    y=df[pairs[0]]\n",
    "    x=df[pairs[1]]\n",
    "\n",
    "    model = RollingOLS(x,y, lookback).fit()\n",
    "\n",
    "    # Construct the hedge ratio and eliminate the first \n",
    "    # lookback-length empty/NaN period\n",
    "    df['hedge_ratio'] = model.params\n",
    "    df = df.dropna()\n",
    "\n",
    "    # Create the spread and then a z-score of the spread\n",
    "    print(\"Creating the spread/zscore columns...\")\n",
    "    \n",
    "    df['spread'] = df[pairs[0]] - df['hedge_ratio']*df[pairs[1]]\n",
    "    #df = df.reset_index()\n",
    "    #halflife = half_life(df['spread'])\n",
    "    df['zscore'] = (df['spread'] - df['spread'].rolling(lookback).mean()) / df['spread'].rolling(lookback).std()\n",
    "    return df\n"
   ]
  },
  {
   "cell_type": "code",
   "execution_count": 33,
   "metadata": {},
   "outputs": [],
   "source": [
    "def get_keys(filename):\n",
    "    with open(filename, mode='r', encoding='utf-8') as keys:\n",
    "        for key in keys:\n",
    "            apiKey = key.split()[0]\n",
    "            secretKey = key.split()[1]\n",
    "    return apiKey, secretKey"
   ]
  },
  {
   "cell_type": "markdown",
   "metadata": {},
   "source": [
    "### Adapt strategy to live"
   ]
  },
  {
   "cell_type": "code",
   "execution_count": 40,
   "metadata": {},
   "outputs": [],
   "source": [
    "\n",
    "def deploy_live(df, pairs, dep, zentry_threshold, zexit_threshold, totalShort0, totalLong0, totalShort1, totalLong1) :\n",
    "    \n",
    "    #print(pairs)\n",
    "    pair0 = pairs[0].replace(\"/\", \"\")\n",
    "    pair1 = pairs[1].replace(\"/\", \"\")\n",
    "    print(pair0)\n",
    "    if df.iloc[-1][\"zscore\"] >= zentry_threshold:\n",
    "        amountToTrade1 = dep/2/df.iloc[-1][pairs[0]]\n",
    "        amountToTrade1 = truncate(amountToTrade1, 0)\n",
    "        amountToTrade2 = dep/2/df.iloc[-1][pairs[1]]\n",
    "        amountToTrade2 = truncate(amountToTrade2, 0)\n",
    "        short = request_client.post_order(symbol=pair1, side=OrderSide.SELL, ordertype=OrderType.MARKET, quantity=amountToTrade2, positionSide=\"SHORT\")\n",
    "        long = request_client.post_order(symbol=pair0, side=OrderSide.BUY, ordertype=OrderType.MARKET,quantity=amountToTrade1, positionSide=\"LONG\")\n",
    "        totalLong0 += amountToTrade1\n",
    "        totalShort1 += amountToTrade2\n",
    "    if df.iloc[-1][\"zscore\"] <= -1*zentry_threshold:\n",
    "        amountToTrade1 = dep/2/df.iloc[-1][pairs[0]]\n",
    "        amountToTrade1 = truncate(amountToTrade1, 0)\n",
    "        amountToTrade2 = dep/2/df.iloc[-1][pairs[1]]\n",
    "        amountToTrade2 = truncate(amountToTrade2, 0)\n",
    "        short = request_client.post_order(symbol=pair0, side=OrderSide.SELL, ordertype=OrderType.MARKET, quantity=amountToTrade1, positionSide=\"SHORT\")\n",
    "        long = request_client.post_order(symbol=pair1, side=OrderSide.BUY, ordertype=OrderType.MARKET,quantity=amountToTrade2, positionSide=\"LONG\")\n",
    "        totalShort0 += amountToTrade1\n",
    "        totalLong1 += amountToTrade2\n",
    "    if df.iloc[-1][\"zscore\"] <= zexit_threshold and df.iloc[-1][\"zscore\"]>= -1*zexit_threshold and (totalShort0 > 0) :\n",
    "        closeShort = request_client.post_order(symbol=pair0, side=OrderSide.BUY, ordertype=OrderType.MARKET, quantity=totalShort0, positionSide=\"SHORT\")\n",
    "        closeLong = request_client.post_order(symbol=pair1, side=OrderSide.SELL, ordertype=OrderType.MARKET,quantity=totalLong1, positionSide=\"LONG\")\n",
    "        totalShort0 = 0\n",
    "        totalLong1 = 0\n",
    "    if df.iloc[-1][\"zscore\"] <= zexit_threshold and df.iloc[-1][\"zscore\"]>= -1*zexit_threshold and (totalLong0 > 0) :\n",
    "        closeLong = request_client.post_order(symbol=pair0, side=OrderSide.SELL, ordertype=OrderType.MARKET, quantity=totalLong0, positionSide=\"LONG\")\n",
    "        closeShort = request_client.post_order(symbol=pair1, side=OrderSide.BUY, ordertype=OrderType.MARKET,quantity=totalShort1, positionSide=\"SHORT\")\n",
    "        totalLong0 = 0\n",
    "        totalShort1 = 0\n",
    "        \n",
    "    return totalShort0, totalLong0, totalShort1, totalLong1"
   ]
  },
  {
   "cell_type": "markdown",
   "metadata": {},
   "source": [
    "### Main"
   ]
  },
  {
   "cell_type": "code",
   "execution_count": null,
   "metadata": {},
   "outputs": [],
   "source": [
    "from dataToDictionnary import *\n",
    "import pandas as pd\n",
    "import numpy as np\n",
    "pd.options.mode.chained_assignment = None\n",
    "import matplotlib.pyplot as plt\n",
    "import time\n",
    "import math\n",
    "from binance_f import RequestClient\n",
    "from binance_f.constant.test import *\n",
    "from binance_f.base.printobject import *\n",
    "from binance_f.model.constant import *\n",
    "import requests\n",
    "import os\n",
    "\n",
    "API_KEY, SECRET_KEY = get_keys('keys.txt') \n",
    "\n",
    "url = \"https://fapi.binance.com/\"\n",
    "request_client = RequestClient(api_key=API_KEY, secret_key=SECRET_KEY, url = \"https://fapi.binance.com/\")\n",
    "dep = 59\n",
    "zexit_threshold = 0.5\n",
    "zentry_threshold = 1.5\n",
    "lookback = 80\n",
    "# Load the prices data for 2 assets\n",
    "i = 0\n",
    "totalShort0, totalLong0, totalShort1, totalLong1 = 0,0,0,0\n",
    "while True :\n",
    "    \n",
    "    print(\"Collecting data...\")\n",
    "    \n",
    "    exec(open(\"02-refreshDataCandles-fast.py\").read())\n",
    "    print(\"Storing data in dataframe...\")\n",
    "    exchanges = ['binance']\n",
    "    pairs = ['SNX/USDT','REN/USDT']\n",
    "    durations = ['3m']\n",
    "    data = dataToDico(pairs, durations, exchanges)\n",
    "    df=pd.DataFrame.from_dict(data, orient='index')\n",
    "    df = df.transpose()\n",
    "    df=df.dropna()\n",
    "    df['time'] = pd.to_datetime(df['time'],unit='ms')\n",
    "    df = df[df[pairs[0]]!=0]\n",
    "    df = df[df[pairs[1]]!=0]\n",
    "    df = df.reset_index()\n",
    "    \n",
    "    df.set_index('time')\n",
    "    \n",
    "    df = calculate_spread_zscore(df, lookback)\n",
    "    print(df.iloc[-1])\n",
    "    totalShort0, totalLong0, totalShort1, totalLong1 = deploy_live(df, pairs, dep, zentry_threshold, zexit_threshold, totalShort0, totalLong0, totalShort1, totalLong1)\n",
    "    print(\"Waiting for next exec...\\n\")\n",
    "    time.sleep(150)\n",
    "    i+=1"
   ]
  },
  {
   "cell_type": "code",
   "execution_count": null,
   "metadata": {},
   "outputs": [],
   "source": []
  },
  {
   "cell_type": "code",
   "execution_count": null,
   "metadata": {},
   "outputs": [],
   "source": []
  }
 ],
 "metadata": {
  "kernelspec": {
   "display_name": "Python 3",
   "language": "python",
   "name": "python3"
  },
  "language_info": {
   "codemirror_mode": {
    "name": "ipython",
    "version": 3
   },
   "file_extension": ".py",
   "mimetype": "text/x-python",
   "name": "python",
   "nbconvert_exporter": "python",
   "pygments_lexer": "ipython3",
   "version": "3.8.5"
  }
 },
 "nbformat": 4,
 "nbformat_minor": 4
}
